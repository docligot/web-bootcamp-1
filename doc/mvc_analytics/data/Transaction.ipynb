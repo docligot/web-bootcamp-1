{
 "cells": [
  {
   "cell_type": "code",
   "execution_count": 18,
   "metadata": {},
   "outputs": [],
   "source": [
    "import pandas as pd\n",
    "import json"
   ]
  },
  {
   "cell_type": "code",
   "execution_count": 56,
   "metadata": {},
   "outputs": [],
   "source": [
    "df = pd.read_csv('transaction.csv')"
   ]
  },
  {
   "cell_type": "code",
   "execution_count": 100,
   "metadata": {},
   "outputs": [
    {
     "data": {
      "text/plain": [
       "'[[\"East\",\"Credit\",3139.03],[\"East\",\"Paypal\",1031.41],[\"North\",\"Credit\",1266.63],[\"North\",\"Paypal\",1582.61],[\"South\",\"Credit\",3096.19],[\"South\",\"Paypal\",1325.92],[\"West\",\"Credit\",4525.63],[\"West\",\"Paypal\",2887.0],[\"Credit\",\"Email\",3705.22],[\"Credit\",\"Web\",8322.26],[\"Paypal\",\"Email\",1913.94],[\"Paypal\",\"Web\",4913.0]]'"
      ]
     },
     "execution_count": 100,
     "metadata": {},
     "output_type": "execute_result"
    }
   ],
   "source": [
    "output = df.groupby(['Region','Payment']).sum().reset_index()\n",
    "output = output.rename(columns={'Region':'from', 'Payment':'to', 'Amount':'value'})\n",
    "output1 = df.groupby(['Payment','Source']).sum().reset_index()\n",
    "output1 = output1.rename(columns={'Payment':'from', 'Source':'to', 'Amount':'value'})\n",
    "output = output.append(output1).reset_index()\n",
    "output = output.drop(['index'], axis=1)\n",
    "output.to_json(orient='values')"
   ]
  },
  {
   "cell_type": "code",
   "execution_count": null,
   "metadata": {},
   "outputs": [],
   "source": []
  }
 ],
 "metadata": {
  "kernelspec": {
   "display_name": "Python 3",
   "language": "python",
   "name": "python3"
  },
  "language_info": {
   "codemirror_mode": {
    "name": "ipython",
    "version": 3
   },
   "file_extension": ".py",
   "mimetype": "text/x-python",
   "name": "python",
   "nbconvert_exporter": "python",
   "pygments_lexer": "ipython3",
   "version": "3.6.4"
  }
 },
 "nbformat": 4,
 "nbformat_minor": 2
}
