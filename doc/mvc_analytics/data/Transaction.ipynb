{
 "cells": [
  {
   "cell_type": "code",
   "execution_count": 18,
   "metadata": {},
   "outputs": [],
   "source": [
    "import pandas as pd\n",
    "import json"
   ]
  },
  {
   "cell_type": "code",
   "execution_count": 104,
   "metadata": {},
   "outputs": [],
   "source": [
    "df = pd.read_csv('transaction.csv')"
   ]
  },
  {
   "cell_type": "code",
   "execution_count": 144,
   "metadata": {},
   "outputs": [],
   "source": [
    "def generateSankey(variable1, variable2, variable3):\n",
    "    output = df.groupby([variable1,variable2]).sum().reset_index()\n",
    "    output = output.rename(columns={variable1:'from', variable2:'to', 'Amount':'value'})\n",
    "    output1 = df.groupby([variable2,variable3]).sum().reset_index()\n",
    "    output1 = output1.rename(columns={variable2:'from', variable3:'to', 'Amount':'value'})\n",
    "    output = output.append(output1).reset_index()\n",
    "    output = output.drop(['index'], axis=1)\n",
    "    return output\n",
    "    #output.to_json(orient='values')\n",
    "\n",
    "def generateTable(variable1, variable2, variable3):\n",
    "    output = df.groupby([variable1,variable2,variable3]).sum().reset_index()\n",
    "    return output"
   ]
  },
  {
   "cell_type": "code",
   "execution_count": 189,
   "metadata": {},
   "outputs": [
    {
     "name": "stdout",
     "output_type": "stream",
     "text": [
      "[[\"East\",\"Book\",3364.34],[\"East\",\"DVD\",806.1],[\"North\",\"Book\",2009.27],[\"North\",\"DVD\",839.97],[\"South\",\"Book\",3683.26],[\"South\",\"DVD\",738.85],[\"West\",\"Book\",5615.4],[\"West\",\"DVD\",1797.23],[\"Book\",\"Email\",4616.24],[\"Book\",\"Web\",10056.03],[\"DVD\",\"Email\",1002.92],[\"DVD\",\"Web\",3179.23]],[[\"East\",\"Book\",\"Email\",934.93],[\"East\",\"Book\",\"Web\",2429.41],[\"East\",\"DVD\",\"Email\",121.72],[\"East\",\"DVD\",\"Web\",684.38],[\"North\",\"Book\",\"Email\",231.33],[\"North\",\"Book\",\"Web\",1777.94],[\"North\",\"DVD\",\"Email\",252.41],[\"North\",\"DVD\",\"Web\",587.56],[\"South\",\"Book\",\"Email\",1214.72],[\"South\",\"Book\",\"Web\",2468.54],[\"South\",\"DVD\",\"Email\",205.52],[\"South\",\"DVD\",\"Web\",533.33],[\"West\",\"Book\",\"Email\",2235.26],[\"West\",\"Book\",\"Web\",3380.14],[\"West\",\"DVD\",\"Email\",423.27],[\"West\",\"DVD\",\"Web\",1373.96]]\n"
     ]
    }
   ],
   "source": [
    "output = []\n",
    "output = generateSankey('Region', 'Product', 'Source').to_json(orient='values')\n",
    "output += ',' + generateTable('Region', 'Product', 'Source').to_json(orient='values')\n",
    "print(output)"
   ]
  },
  {
   "cell_type": "code",
   "execution_count": null,
   "metadata": {},
   "outputs": [],
   "source": []
  }
 ],
 "metadata": {
  "kernelspec": {
   "display_name": "Python 3",
   "language": "python",
   "name": "python3"
  },
  "language_info": {
   "codemirror_mode": {
    "name": "ipython",
    "version": 3
   },
   "file_extension": ".py",
   "mimetype": "text/x-python",
   "name": "python",
   "nbconvert_exporter": "python",
   "pygments_lexer": "ipython3",
   "version": "3.6.4"
  }
 },
 "nbformat": 4,
 "nbformat_minor": 2
}
