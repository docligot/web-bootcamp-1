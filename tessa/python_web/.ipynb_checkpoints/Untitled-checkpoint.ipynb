{
 "cells": [
  {
   "cell_type": "code",
   "execution_count": 2,
   "metadata": {},
   "outputs": [
    {
     "name": "stdout",
     "output_type": "stream",
     "text": [
      "0.7822001922727447\n"
     ]
    }
   ],
   "source": [
    "import pandas as pd\n",
    "import sklearn\n",
    "from sklearn.cluster import KMeans\n",
    "from sklearn.metrics import silhouette_score\n",
    "\n",
    "#data = cgi.FieldStorage()\n",
    "#clusters = data.getvalue('clusters')\n",
    "clusters = 2\n",
    "xl = pd.ExcelFile(r\"clustering_data.xlsx\")\n",
    "df = xl.parse(\"Sheet1\")\n",
    "train = df.drop(['record_id'], axis = 1)\n",
    "km = KMeans(n_clusters=int(clusters))\n",
    "km.fit(train)\n",
    "#print('Content-type:text/html \\r\\n\\r\\n')\n",
    "print(silhouette_score(km.fit_transform(train), km.labels_))\n"
   ]
  }
 ],
 "metadata": {
  "kernelspec": {
   "display_name": "Python 3",
   "language": "python",
   "name": "python3"
  },
  "language_info": {
   "codemirror_mode": {
    "name": "ipython",
    "version": 3
   },
   "file_extension": ".py",
   "mimetype": "text/x-python",
   "name": "python",
   "nbconvert_exporter": "python",
   "pygments_lexer": "ipython3",
   "version": "3.7.1"
  }
 },
 "nbformat": 4,
 "nbformat_minor": 2
}
