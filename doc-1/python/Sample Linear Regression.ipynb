{
 "cells": [
  {
   "cell_type": "code",
   "execution_count": 2,
   "metadata": {},
   "outputs": [],
   "source": [
    "import numpy as np\n",
    "import pandas as pd\n",
    "import scipy.stats as stats\n",
    "import matplotlib.pyplot as plt\n",
    "import sklearn\n",
    "import math"
   ]
  },
  {
   "cell_type": "code",
   "execution_count": 3,
   "metadata": {},
   "outputs": [],
   "source": [
    "xl = pd.ExcelFile(r\"C:\\Users\\Dell\\Desktop\\Training Classes\\UP OU Demo\\Sales_data.xlsx\")"
   ]
  },
  {
   "cell_type": "code",
   "execution_count": 4,
   "metadata": {},
   "outputs": [
    {
     "name": "stdout",
     "output_type": "stream",
     "text": [
      "<pandas.io.excel.ExcelFile object at 0x000001CE566BEAC8>\n"
     ]
    }
   ],
   "source": [
    "xl.sheet_names\n",
    "print (xl)"
   ]
  },
  {
   "cell_type": "code",
   "execution_count": 6,
   "metadata": {},
   "outputs": [
    {
     "name": "stdout",
     "output_type": "stream",
     "text": [
      "    period        sales_a        sales_b  price_a  price_b   ads_b  \\\n",
      "0        1      45.454545  679548.408057    44.00    61.56  531000   \n",
      "1        2   51919.228670  620905.137703    54.97    62.09  399000   \n",
      "2        3  158308.494784  527152.744246    53.68    62.13  282000   \n",
      "3        4  206347.693481  401672.025723    52.46    62.20  256000   \n",
      "4        5  281893.004115  340984.883902    43.74    64.17  297000   \n",
      "5        6  331328.187384  283159.328189    37.57    66.09  193000   \n",
      "6        7  376942.496494  243670.886076    35.65    66.36  195000   \n",
      "7        8  378894.901737  202938.971360    35.11    66.69  120000   \n",
      "8        9  434965.831435  200334.295700    35.12    65.81   72000   \n",
      "9       10  425606.936416  172570.390554    34.60    66.06  157000   \n",
      "10      11  404534.883721  147985.513807    34.40    66.27  110000   \n",
      "11      12  455940.594059  150897.934750    34.34    66.82  203000   \n",
      "12      13  432531.908578  132211.967848    33.69    67.18   36000   \n",
      "13      14  467367.485934  134164.874552    33.77    69.75   54000   \n",
      "14      15  468017.732742  119590.305828    31.58    69.32   22000   \n",
      "15      16  430784.508441  101639.580037    30.21    69.53   60000   \n",
      "16      17  468070.057258  102920.544023    29.69    69.85   26000   \n",
      "17      18  470783.847981   96750.644145    29.47    69.86       0   \n",
      "18      19  466666.666667   90909.090909    29.31    70.18   64000   \n",
      "19      20  462228.997290   85247.763737    29.52    70.43   24000   \n",
      "20      21  471669.477234   82831.410076    29.65    71.06   40000   \n",
      "21      22  442158.516020   75310.910119    29.65    70.76   30000   \n",
      "22      23  436342.202762   70489.977728    29.69    71.84  164000   \n",
      "23      24  464966.216216   72184.623714    29.60    73.88       0   \n",
      "24      25  423801.369863   63365.139094    29.20    74.41       0   \n",
      "25      26  473509.015257   68699.515347    28.84    74.28       0   \n",
      "26      27  447326.109752   60219.571700    28.61    73.78   15000   \n",
      "27      28  424519.734544   54561.262707    28.63    74.76       0   \n",
      "28      29  463757.916960   57489.264966    28.42    79.18   17000   \n",
      "29      30  450906.400296   53244.298853    27.03    79.37   82000   \n",
      "30      31  440317.858637   49630.290668    23.91    78.44   84000   \n",
      "31      32  465010.526316   51064.100930    23.75    78.47   46000   \n",
      "32      33  463030.303030   49213.454406    24.75    78.19       0   \n",
      "33      34  446573.705179   46732.648141    25.10    78.81       0   \n",
      "34      35  424450.659209   43515.445494    25.03    78.34       0   \n",
      "35      36  445609.177215   44245.654105    25.28    78.81       0   \n",
      "36      37  430553.390491   41814.744802    25.66    79.35   95000   \n",
      "37      38  452777.777778   42617.813668    25.56    82.97       0   \n",
      "38      39  413521.015067   36974.492206    25.22    84.68   82000   \n",
      "39      40  402358.113509   34116.674539    25.02    84.68   54000   \n",
      "40      41  462519.809826   38067.246649    25.24    85.06       0   \n",
      "41      42  436985.759494   34411.247803    25.28    85.35   63000   \n",
      "42      43  420064.076892   32359.445932    24.97    85.91       0   \n",
      "43      44  437086.359968   32779.991147    24.78    90.36   26000   \n",
      "44      45  441267.942584   32139.766335    25.08    92.44   42000   \n",
      "45      46  430973.797419   30470.103986    25.57    92.32   48000   \n",
      "46      47  409751.283064   27896.440129    25.33    92.70       0   \n",
      "47      48  407815.631263   27059.965487    24.95    92.72       0   \n",
      "48      49  411943.319838   26948.051948    24.70    92.40       0   \n",
      "49      50  431752.988048   27635.901240    25.10    94.37       0   \n",
      "\n",
      "    influencers_b  \n",
      "0           93000  \n",
      "1               0  \n",
      "2               0  \n",
      "3           15000  \n",
      "4               0  \n",
      "5               0  \n",
      "6           76000  \n",
      "7               0  \n",
      "8               0  \n",
      "9           19000  \n",
      "10              0  \n",
      "11              0  \n",
      "12         111000  \n",
      "13          78000  \n",
      "14              0  \n",
      "15         158000  \n",
      "16              0  \n",
      "17              0  \n",
      "18              0  \n",
      "19              0  \n",
      "20              0  \n",
      "21              0  \n",
      "22              0  \n",
      "23              0  \n",
      "24              0  \n",
      "25              0  \n",
      "26              0  \n",
      "27              0  \n",
      "28              0  \n",
      "29          10000  \n",
      "30              0  \n",
      "31          46000  \n",
      "32              0  \n",
      "33              0  \n",
      "34              0  \n",
      "35              0  \n",
      "36              0  \n",
      "37              0  \n",
      "38              0  \n",
      "39              0  \n",
      "40              0  \n",
      "41              0  \n",
      "42              0  \n",
      "43              0  \n",
      "44              0  \n",
      "45              0  \n",
      "46           7000  \n",
      "47              0  \n",
      "48              0  \n",
      "49              0  \n"
     ]
    }
   ],
   "source": [
    "df = xl.parse(\"Sheet1\")\n",
    "print (df)"
   ]
  },
  {
   "cell_type": "code",
   "execution_count": 14,
   "metadata": {},
   "outputs": [],
   "source": [
    "from sklearn.linear_model import LinearRegression\n",
    "lm = LinearRegression()"
   ]
  },
  {
   "cell_type": "code",
   "execution_count": 15,
   "metadata": {},
   "outputs": [],
   "source": [
    "train = df.loc[df['period'] <= 30]\n",
    "test = df.loc[df['period'] > 30]"
   ]
  },
  {
   "cell_type": "code",
   "execution_count": 16,
   "metadata": {},
   "outputs": [],
   "source": [
    "independent_variables = train.drop('sales_a', axis = 1)"
   ]
  },
  {
   "cell_type": "code",
   "execution_count": 17,
   "metadata": {},
   "outputs": [
    {
     "name": "stdout",
     "output_type": "stream",
     "text": [
      "    period        sales_b  price_a  price_b   ads_b  influencers_b\n",
      "0        1  679548.408057    44.00    61.56  531000          93000\n",
      "1        2  620905.137703    54.97    62.09  399000              0\n",
      "2        3  527152.744246    53.68    62.13  282000              0\n",
      "3        4  401672.025723    52.46    62.20  256000          15000\n",
      "4        5  340984.883902    43.74    64.17  297000              0\n",
      "5        6  283159.328189    37.57    66.09  193000              0\n",
      "6        7  243670.886076    35.65    66.36  195000          76000\n",
      "7        8  202938.971360    35.11    66.69  120000              0\n",
      "8        9  200334.295700    35.12    65.81   72000              0\n",
      "9       10  172570.390554    34.60    66.06  157000          19000\n",
      "10      11  147985.513807    34.40    66.27  110000              0\n",
      "11      12  150897.934750    34.34    66.82  203000              0\n",
      "12      13  132211.967848    33.69    67.18   36000         111000\n",
      "13      14  134164.874552    33.77    69.75   54000          78000\n",
      "14      15  119590.305828    31.58    69.32   22000              0\n",
      "15      16  101639.580037    30.21    69.53   60000         158000\n",
      "16      17  102920.544023    29.69    69.85   26000              0\n",
      "17      18   96750.644145    29.47    69.86       0              0\n",
      "18      19   90909.090909    29.31    70.18   64000              0\n",
      "19      20   85247.763737    29.52    70.43   24000              0\n",
      "20      21   82831.410076    29.65    71.06   40000              0\n",
      "21      22   75310.910119    29.65    70.76   30000              0\n",
      "22      23   70489.977728    29.69    71.84  164000              0\n",
      "23      24   72184.623714    29.60    73.88       0              0\n",
      "24      25   63365.139094    29.20    74.41       0              0\n",
      "25      26   68699.515347    28.84    74.28       0              0\n",
      "26      27   60219.571700    28.61    73.78   15000              0\n",
      "27      28   54561.262707    28.63    74.76       0              0\n",
      "28      29   57489.264966    28.42    79.18   17000              0\n",
      "29      30   53244.298853    27.03    79.37   82000          10000\n"
     ]
    }
   ],
   "source": [
    "print (independent_variables)"
   ]
  },
  {
   "cell_type": "code",
   "execution_count": 18,
   "metadata": {},
   "outputs": [
    {
     "data": {
      "text/plain": [
       "LinearRegression(copy_X=True, fit_intercept=True, n_jobs=1, normalize=False)"
      ]
     },
     "execution_count": 18,
     "metadata": {},
     "output_type": "execute_result"
    }
   ],
   "source": [
    "lm.fit (independent_variables, train.sales_a)"
   ]
  },
  {
   "cell_type": "code",
   "execution_count": 19,
   "metadata": {},
   "outputs": [
    {
     "name": "stdout",
     "output_type": "stream",
     "text": [
      "447516.88456017256\n"
     ]
    }
   ],
   "source": [
    "print (lm.intercept_)"
   ]
  },
  {
   "cell_type": "code",
   "execution_count": 20,
   "metadata": {},
   "outputs": [
    {
     "data": {
      "text/html": [
       "<div>\n",
       "<style scoped>\n",
       "    .dataframe tbody tr th:only-of-type {\n",
       "        vertical-align: middle;\n",
       "    }\n",
       "\n",
       "    .dataframe tbody tr th {\n",
       "        vertical-align: top;\n",
       "    }\n",
       "\n",
       "    .dataframe thead th {\n",
       "        text-align: right;\n",
       "    }\n",
       "</style>\n",
       "<table border=\"1\" class=\"dataframe\">\n",
       "  <thead>\n",
       "    <tr style=\"text-align: right;\">\n",
       "      <th></th>\n",
       "      <th>features</th>\n",
       "      <th>coefficients</th>\n",
       "    </tr>\n",
       "  </thead>\n",
       "  <tbody>\n",
       "    <tr>\n",
       "      <th>0</th>\n",
       "      <td>period</td>\n",
       "      <td>-6633.749399</td>\n",
       "    </tr>\n",
       "    <tr>\n",
       "      <th>1</th>\n",
       "      <td>sales_b</td>\n",
       "      <td>-0.759839</td>\n",
       "    </tr>\n",
       "    <tr>\n",
       "      <th>2</th>\n",
       "      <td>price_a</td>\n",
       "      <td>-1729.367185</td>\n",
       "    </tr>\n",
       "    <tr>\n",
       "      <th>3</th>\n",
       "      <td>price_b</td>\n",
       "      <td>3744.135224</td>\n",
       "    </tr>\n",
       "    <tr>\n",
       "      <th>4</th>\n",
       "      <td>ads_b</td>\n",
       "      <td>-0.117634</td>\n",
       "    </tr>\n",
       "    <tr>\n",
       "      <th>5</th>\n",
       "      <td>influencers_b</td>\n",
       "      <td>-0.134294</td>\n",
       "    </tr>\n",
       "  </tbody>\n",
       "</table>\n",
       "</div>"
      ],
      "text/plain": [
       "        features  coefficients\n",
       "0         period  -6633.749399\n",
       "1        sales_b     -0.759839\n",
       "2        price_a  -1729.367185\n",
       "3        price_b   3744.135224\n",
       "4          ads_b     -0.117634\n",
       "5  influencers_b     -0.134294"
      ]
     },
     "execution_count": 20,
     "metadata": {},
     "output_type": "execute_result"
    }
   ],
   "source": [
    "pd.DataFrame(list(zip(independent_variables.columns, lm.coef_)), columns = ['features', 'coefficients'])"
   ]
  },
  {
   "cell_type": "code",
   "execution_count": 21,
   "metadata": {},
   "outputs": [
    {
     "data": {
      "text/plain": [
       "0.9776928766342411"
      ]
     },
     "execution_count": 21,
     "metadata": {},
     "output_type": "execute_result"
    }
   ],
   "source": [
    "lm.score(independent_variables, train.sales_a)"
   ]
  },
  {
   "cell_type": "code",
   "execution_count": 22,
   "metadata": {},
   "outputs": [
    {
     "data": {
      "text/plain": [
       "array([  3979.68030368,  52935.63480815, 133682.44599251, 225809.79020234,\n",
       "       284935.88953093, 352333.14335768, 369593.95139631, 415108.20185378,\n",
       "       412787.90630804, 416535.03954421, 437794.36649057, 420170.68000442,\n",
       "       434945.5870922 , 438626.29138969, 459483.40148479, 443956.30584238,\n",
       "       463664.58784798, 465195.36393566, 456946.46898958, 459892.6588033 ,\n",
       "       455346.78427767, 454480.50444622, 439721.36029534, 458885.68227208,\n",
       "       461629.45564849, 451078.27624454, 447649.0848565 , 450713.9185717 ,\n",
       "       456767.81939061, 447485.58945618])"
      ]
     },
     "execution_count": 22,
     "metadata": {},
     "output_type": "execute_result"
    }
   ],
   "source": [
    "lm.predict(independent_variables)"
   ]
  },
  {
   "cell_type": "code",
   "execution_count": 23,
   "metadata": {},
   "outputs": [],
   "source": [
    "independent_variables_2 = test.drop('sales_a', axis = 1)"
   ]
  },
  {
   "cell_type": "code",
   "execution_count": 24,
   "metadata": {},
   "outputs": [
    {
     "data": {
      "text/plain": [
       "array([446619.14986785, 437577.56164814, 441160.97087512, 438128.31898703,\n",
       "       432300.43626724, 426439.24798988, 411841.99789189, 429500.02479843,\n",
       "       424498.71966821, 423676.0882801 , 421435.11287534, 411184.98644961,\n",
       "       416154.06506735, 423132.25502518, 422371.81301833, 415004.24455786,\n",
       "       416870.28189938, 412544.21572619, 405229.72107134, 404757.51679513])"
      ]
     },
     "execution_count": 24,
     "metadata": {},
     "output_type": "execute_result"
    }
   ],
   "source": [
    "lm.predict(independent_variables_2)"
   ]
  },
  {
   "cell_type": "code",
   "execution_count": 25,
   "metadata": {},
   "outputs": [
    {
     "name": "stdout",
     "output_type": "stream",
     "text": [
      "    period       sales_b  price_a  price_b  ads_b  influencers_b\n",
      "30      31  49630.290668    23.91    78.44  84000              0\n",
      "31      32  51064.100930    23.75    78.47  46000          46000\n",
      "32      33  49213.454406    24.75    78.19      0              0\n",
      "33      34  46732.648141    25.10    78.81      0              0\n",
      "34      35  43515.445494    25.03    78.34      0              0\n",
      "35      36  44245.654105    25.28    78.81      0              0\n",
      "36      37  41814.744802    25.66    79.35  95000              0\n",
      "37      38  42617.813668    25.56    82.97      0              0\n",
      "38      39  36974.492206    25.22    84.68  82000              0\n",
      "39      40  34116.674539    25.02    84.68  54000              0\n",
      "40      41  38067.246649    25.24    85.06      0              0\n",
      "41      42  34411.247803    25.28    85.35  63000              0\n",
      "42      43  32359.445932    24.97    85.91      0              0\n",
      "43      44  32779.991147    24.78    90.36  26000              0\n",
      "44      45  32139.766335    25.08    92.44  42000              0\n",
      "45      46  30470.103986    25.57    92.32  48000              0\n",
      "46      47  27896.440129    25.33    92.70      0           7000\n",
      "47      48  27059.965487    24.95    92.72      0              0\n",
      "48      49  26948.051948    24.70    92.40      0              0\n",
      "49      50  27635.901240    25.10    94.37      0              0\n"
     ]
    }
   ],
   "source": [
    "print (independent_variables_2)"
   ]
  },
  {
   "cell_type": "code",
   "execution_count": 26,
   "metadata": {},
   "outputs": [
    {
     "name": "stdout",
     "output_type": "stream",
     "text": [
      "[446619.14986785 437577.56164814 441160.97087512 438128.31898703\n",
      " 432300.43626724 426439.24798988 411841.99789189 429500.02479843\n",
      " 424498.71966821 423676.0882801  421435.11287534 411184.98644961\n",
      " 416154.06506735 423132.25502518 422371.81301833 415004.24455786\n",
      " 416870.28189938 412544.21572619 405229.72107134 404757.51679513]\n"
     ]
    }
   ],
   "source": [
    "print (lm.predict(independent_variables_2))"
   ]
  },
  {
   "cell_type": "code",
   "execution_count": 27,
   "metadata": {},
   "outputs": [
    {
     "data": {
      "text/plain": [
       "Text(0.5,1,'Predicted vs. Actual Sales')"
      ]
     },
     "execution_count": 27,
     "metadata": {},
     "output_type": "execute_result"
    },
    {
     "data": {
      "image/png": "[encoded data removed]",
      "text/plain": [
       "<matplotlib.figure.Figure at 0x1ce5a07fd30>"
      ]
     },
     "metadata": {},
     "output_type": "display_data"
    }
   ],
   "source": [
    "plt.scatter(lm.predict(independent_variables), train.sales_a)\n",
    "plt.xlabel(\"Predicted Sales\")\n",
    "plt.ylabel(\"Actual Sales\")\n",
    "plt.title(\"Predicted vs. Actual Sales\")"
   ]
  },
  {
   "cell_type": "code",
   "execution_count": 28,
   "metadata": {},
   "outputs": [
    {
     "name": "stdout",
     "output_type": "stream",
     "text": [
      "19053.21836565928\n"
     ]
    }
   ],
   "source": [
    "mseFull = math.sqrt(np.mean((test.sales_a - lm.predict(independent_variables_2)) ** 2))\n",
    "print (mseFull)"
   ]
  },
  {
   "cell_type": "code",
   "execution_count": 29,
   "metadata": {},
   "outputs": [
    {
     "name": "stdout",
     "output_type": "stream",
     "text": [
      "18397.272896135324\n"
     ]
    }
   ],
   "source": [
    "mseFull = math.sqrt(np.mean((train.sales_a - lm.predict(independent_variables)) ** 2))\n",
    "print (mseFull)"
   ]
  },
  {
   "cell_type": "code",
   "execution_count": 30,
   "metadata": {},
   "outputs": [
    {
     "name": "stdout",
     "output_type": "stream",
     "text": [
      "    period        sales_a        sales_b  price_a  price_b   ads_b  \\\n",
      "0        1      45.454545  679548.408057    44.00    61.56  531000   \n",
      "1        2   51919.228670  620905.137703    54.97    62.09  399000   \n",
      "2        3  158308.494784  527152.744246    53.68    62.13  282000   \n",
      "3        4  206347.693481  401672.025723    52.46    62.20  256000   \n",
      "4        5  281893.004115  340984.883902    43.74    64.17  297000   \n",
      "5        6  331328.187384  283159.328189    37.57    66.09  193000   \n",
      "6        7  376942.496494  243670.886076    35.65    66.36  195000   \n",
      "7        8  378894.901737  202938.971360    35.11    66.69  120000   \n",
      "8        9  434965.831435  200334.295700    35.12    65.81   72000   \n",
      "9       10  425606.936416  172570.390554    34.60    66.06  157000   \n",
      "10      11  404534.883721  147985.513807    34.40    66.27  110000   \n",
      "11      12  455940.594059  150897.934750    34.34    66.82  203000   \n",
      "12      13  432531.908578  132211.967848    33.69    67.18   36000   \n",
      "13      14  467367.485934  134164.874552    33.77    69.75   54000   \n",
      "14      15  468017.732742  119590.305828    31.58    69.32   22000   \n",
      "15      16  430784.508441  101639.580037    30.21    69.53   60000   \n",
      "16      17  468070.057258  102920.544023    29.69    69.85   26000   \n",
      "17      18  470783.847981   96750.644145    29.47    69.86       0   \n",
      "18      19  466666.666667   90909.090909    29.31    70.18   64000   \n",
      "19      20  462228.997290   85247.763737    29.52    70.43   24000   \n",
      "20      21  471669.477234   82831.410076    29.65    71.06   40000   \n",
      "21      22  442158.516020   75310.910119    29.65    70.76   30000   \n",
      "22      23  436342.202762   70489.977728    29.69    71.84  164000   \n",
      "23      24  464966.216216   72184.623714    29.60    73.88       0   \n",
      "24      25  423801.369863   63365.139094    29.20    74.41       0   \n",
      "25      26  473509.015257   68699.515347    28.84    74.28       0   \n",
      "26      27  447326.109752   60219.571700    28.61    73.78   15000   \n",
      "27      28  424519.734544   54561.262707    28.63    74.76       0   \n",
      "28      29  463757.916960   57489.264966    28.42    79.18   17000   \n",
      "29      30  450906.400296   53244.298853    27.03    79.37   82000   \n",
      "\n",
      "    influencers_b  \n",
      "0           93000  \n",
      "1               0  \n",
      "2               0  \n",
      "3           15000  \n",
      "4               0  \n",
      "5               0  \n",
      "6           76000  \n",
      "7               0  \n",
      "8               0  \n",
      "9           19000  \n",
      "10              0  \n",
      "11              0  \n",
      "12         111000  \n",
      "13          78000  \n",
      "14              0  \n",
      "15         158000  \n",
      "16              0  \n",
      "17              0  \n",
      "18              0  \n",
      "19              0  \n",
      "20              0  \n",
      "21              0  \n",
      "22              0  \n",
      "23              0  \n",
      "24              0  \n",
      "25              0  \n",
      "26              0  \n",
      "27              0  \n",
      "28              0  \n",
      "29          10000  \n"
     ]
    }
   ],
   "source": [
    "print (train)"
   ]
  },
  {
   "cell_type": "code",
   "execution_count": 31,
   "metadata": {},
   "outputs": [
    {
     "name": "stdout",
     "output_type": "stream",
     "text": [
      "    period        sales_a       sales_b  price_a  price_b  ads_b  \\\n",
      "30      31  440317.858637  49630.290668    23.91    78.44  84000   \n",
      "31      32  465010.526316  51064.100930    23.75    78.47  46000   \n",
      "32      33  463030.303030  49213.454406    24.75    78.19      0   \n",
      "33      34  446573.705179  46732.648141    25.10    78.81      0   \n",
      "34      35  424450.659209  43515.445494    25.03    78.34      0   \n",
      "35      36  445609.177215  44245.654105    25.28    78.81      0   \n",
      "36      37  430553.390491  41814.744802    25.66    79.35  95000   \n",
      "37      38  452777.777778  42617.813668    25.56    82.97      0   \n",
      "38      39  413521.015067  36974.492206    25.22    84.68  82000   \n",
      "39      40  402358.113509  34116.674539    25.02    84.68  54000   \n",
      "40      41  462519.809826  38067.246649    25.24    85.06      0   \n",
      "41      42  436985.759494  34411.247803    25.28    85.35  63000   \n",
      "42      43  420064.076892  32359.445932    24.97    85.91      0   \n",
      "43      44  437086.359968  32779.991147    24.78    90.36  26000   \n",
      "44      45  441267.942584  32139.766335    25.08    92.44  42000   \n",
      "45      46  430973.797419  30470.103986    25.57    92.32  48000   \n",
      "46      47  409751.283064  27896.440129    25.33    92.70      0   \n",
      "47      48  407815.631263  27059.965487    24.95    92.72      0   \n",
      "48      49  411943.319838  26948.051948    24.70    92.40      0   \n",
      "49      50  431752.988048  27635.901240    25.10    94.37      0   \n",
      "\n",
      "    influencers_b  \n",
      "30              0  \n",
      "31          46000  \n",
      "32              0  \n",
      "33              0  \n",
      "34              0  \n",
      "35              0  \n",
      "36              0  \n",
      "37              0  \n",
      "38              0  \n",
      "39              0  \n",
      "40              0  \n",
      "41              0  \n",
      "42              0  \n",
      "43              0  \n",
      "44              0  \n",
      "45              0  \n",
      "46           7000  \n",
      "47              0  \n",
      "48              0  \n",
      "49              0  \n"
     ]
    }
   ],
   "source": [
    "print (test)"
   ]
  },
  {
   "cell_type": "code",
   "execution_count": 32,
   "metadata": {},
   "outputs": [
    {
     "name": "stdout",
     "output_type": "stream",
     "text": [
      "[446619.14986785 437577.56164814 441160.97087512 438128.31898703\n",
      " 432300.43626724 426439.24798988 411841.99789189 429500.02479843\n",
      " 424498.71966821 423676.0882801  421435.11287534 411184.98644961\n",
      " 416154.06506735 423132.25502518 422371.81301833 415004.24455786\n",
      " 416870.28189938 412544.21572619 405229.72107134 404757.51679513]\n"
     ]
    }
   ],
   "source": [
    "print (lm.predict(independent_variables_2))"
   ]
  },
  {
   "cell_type": "code",
   "execution_count": 37,
   "metadata": {},
   "outputs": [],
   "source": [
    "from sklearn.metrics import r2_score"
   ]
  },
  {
   "cell_type": "code",
   "execution_count": 44,
   "metadata": {},
   "outputs": [],
   "source": [
    "test_pred = lm.predict(independent_variables_2)"
   ]
  },
  {
   "cell_type": "raw",
   "metadata": {},
   "source": [
    "r2_score(test_pred, test.sales_a)"
   ]
  },
  {
   "cell_type": "code",
   "execution_count": 39,
   "metadata": {},
   "outputs": [
    {
     "name": "stdout",
     "output_type": "stream",
     "text": [
      "-1.7444200269150203\n"
     ]
    }
   ],
   "source": [
    "print (r2_score(test_pred, test.sales_a))"
   ]
  },
  {
   "cell_type": "code",
   "execution_count": 40,
   "metadata": {},
   "outputs": [
    {
     "name": "stdout",
     "output_type": "stream",
     "text": [
      "[446619.14986785 437577.56164814 441160.97087512 438128.31898703\n",
      " 432300.43626724 426439.24798988 411841.99789189 429500.02479843\n",
      " 424498.71966821 423676.0882801  421435.11287534 411184.98644961\n",
      " 416154.06506735 423132.25502518 422371.81301833 415004.24455786\n",
      " 416870.28189938 412544.21572619 405229.72107134 404757.51679513]\n"
     ]
    }
   ],
   "source": [
    "print (test_pred)"
   ]
  },
  {
   "cell_type": "code",
   "execution_count": 41,
   "metadata": {},
   "outputs": [
    {
     "name": "stdout",
     "output_type": "stream",
     "text": [
      "30    440317.858637\n",
      "31    465010.526316\n",
      "32    463030.303030\n",
      "33    446573.705179\n",
      "34    424450.659209\n",
      "35    445609.177215\n",
      "36    430553.390491\n",
      "37    452777.777778\n",
      "38    413521.015067\n",
      "39    402358.113509\n",
      "40    462519.809826\n",
      "41    436985.759494\n",
      "42    420064.076892\n",
      "43    437086.359968\n",
      "44    441267.942584\n",
      "45    430973.797419\n",
      "46    409751.283064\n",
      "47    407815.631263\n",
      "48    411943.319838\n",
      "49    431752.988048\n",
      "Name: sales_a, dtype: float64\n"
     ]
    }
   ],
   "source": [
    "print (test.sales_a)"
   ]
  },
  {
   "cell_type": "code",
   "execution_count": 46,
   "metadata": {},
   "outputs": [],
   "source": [
    "actual = test.sales_a.values"
   ]
  },
  {
   "cell_type": "code",
   "execution_count": 47,
   "metadata": {},
   "outputs": [
    {
     "name": "stdout",
     "output_type": "stream",
     "text": [
      "[440317.85863655 465010.52631579 463030.3030303  446573.70517928\n",
      " 424450.65920895 445609.17721519 430553.39049104 452777.77777778\n",
      " 413521.01506741 402358.11350919 462519.80982567 436985.75949367\n",
      " 420064.07689227 437086.35996772 441267.94258373 430973.79741885\n",
      " 409751.28306356 407815.63126253 411943.31983806 431752.98804781]\n"
     ]
    }
   ],
   "source": [
    "print (actual)"
   ]
  },
  {
   "cell_type": "code",
   "execution_count": 48,
   "metadata": {},
   "outputs": [
    {
     "data": {
      "text/plain": [
       "-1.7444200269150203"
      ]
     },
     "execution_count": 48,
     "metadata": {},
     "output_type": "execute_result"
    }
   ],
   "source": [
    "r2_score(test_pred, actual)"
   ]
  },
  {
   "cell_type": "code",
   "execution_count": null,
   "metadata": {},
   "outputs": [],
   "source": []
  }
 ],
 "metadata": {
  "kernelspec": {
   "display_name": "Python 3",
   "language": "python",
   "name": "python3"
  },
  "language_info": {
   "codemirror_mode": {
    "name": "ipython",
    "version": 3
   },
   "file_extension": ".py",
   "mimetype": "text/x-python",
   "name": "python",
   "nbconvert_exporter": "python",
   "pygments_lexer": "ipython3",
   "version": "3.6.4"
  }
 },
 "nbformat": 4,
 "nbformat_minor": 2
}
